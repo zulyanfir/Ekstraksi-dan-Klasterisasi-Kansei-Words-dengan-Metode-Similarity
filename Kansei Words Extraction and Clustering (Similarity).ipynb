{
 "cells": [
  {
   "cell_type": "code",
   "execution_count": 50,
   "metadata": {},
   "outputs": [],
   "source": [
    "# library\n",
    "import pandas as pd \n",
    "import string, re\n",
    "import emoji\n",
    "import numpy as np\n",
    "\n",
    "from collections import Counter\n",
    "\n",
    "import warnings\n",
    "warnings.filterwarnings(\"ignore\")"
   ]
  },
  {
   "cell_type": "markdown",
   "metadata": {},
   "source": [
    "### Input Dataset"
   ]
  },
  {
   "cell_type": "code",
   "execution_count": 51,
   "metadata": {},
   "outputs": [],
   "source": [
    "# load dataset\n",
    "dataset = pd.read_excel('D:\\SKRIPSI\\Program\\data\\Dataset_Ulasan.xlsx')"
   ]
  },
  {
   "cell_type": "code",
   "execution_count": 52,
   "metadata": {
    "scrolled": true
   },
   "outputs": [
    {
     "data": {
      "text/html": [
       "<div>\n",
       "<style scoped>\n",
       "    .dataframe tbody tr th:only-of-type {\n",
       "        vertical-align: middle;\n",
       "    }\n",
       "\n",
       "    .dataframe tbody tr th {\n",
       "        vertical-align: top;\n",
       "    }\n",
       "\n",
       "    .dataframe thead th {\n",
       "        text-align: right;\n",
       "    }\n",
       "</style>\n",
       "<table border=\"1\" class=\"dataframe\">\n",
       "  <thead>\n",
       "    <tr style=\"text-align: right;\">\n",
       "      <th></th>\n",
       "      <th>comment</th>\n",
       "    </tr>\n",
       "  </thead>\n",
       "  <tbody>\n",
       "    <tr>\n",
       "      <th>0</th>\n",
       "      <td>penjualnya fast respon.. dan barang nya jg cep...</td>\n",
       "    </tr>\n",
       "    <tr>\n",
       "      <th>1</th>\n",
       "      <td>recomended ... barang sesuai .. pengiriman cepat</td>\n",
       "    </tr>\n",
       "    <tr>\n",
       "      <th>2</th>\n",
       "      <td>kemaren pesen hari ini sdh sampai..good produk...</td>\n",
       "    </tr>\n",
       "    <tr>\n",
       "      <th>3</th>\n",
       "      <td>kerennnnn pake banget</td>\n",
       "    </tr>\n",
       "    <tr>\n",
       "      <th>4</th>\n",
       "      <td>Sy suka produk di toko ini. Sdh bbrp kali beli...</td>\n",
       "    </tr>\n",
       "    <tr>\n",
       "      <th>...</th>\n",
       "      <td>...</td>\n",
       "    </tr>\n",
       "    <tr>\n",
       "      <th>2168</th>\n",
       "      <td>Bagus, suka suka.. walau agak lama nunggunya</td>\n",
       "    </tr>\n",
       "    <tr>\n",
       "      <th>2169</th>\n",
       "      <td>Sukaaa design nya, jahitannya rapi bahannya te...</td>\n",
       "    </tr>\n",
       "    <tr>\n",
       "      <th>2170</th>\n",
       "      <td>sukaaaak bagusss</td>\n",
       "    </tr>\n",
       "    <tr>\n",
       "      <th>2171</th>\n",
       "      <td>Origin produk Indonesia. Komunikasi dg penjual...</td>\n",
       "    </tr>\n",
       "    <tr>\n",
       "      <th>2172</th>\n",
       "      <td>tas nya baguuuuuuss, sukaaaa, motif unik, penj...</td>\n",
       "    </tr>\n",
       "  </tbody>\n",
       "</table>\n",
       "<p>2173 rows × 1 columns</p>\n",
       "</div>"
      ],
      "text/plain": [
       "                                                comment\n",
       "0     penjualnya fast respon.. dan barang nya jg cep...\n",
       "1     recomended ... barang sesuai .. pengiriman cepat \n",
       "2     kemaren pesen hari ini sdh sampai..good produk...\n",
       "3                                 kerennnnn pake banget\n",
       "4     Sy suka produk di toko ini. Sdh bbrp kali beli...\n",
       "...                                                 ...\n",
       "2168       Bagus, suka suka.. walau agak lama nunggunya\n",
       "2169  Sukaaa design nya, jahitannya rapi bahannya te...\n",
       "2170                                  sukaaaak bagusss \n",
       "2171  Origin produk Indonesia. Komunikasi dg penjual...\n",
       "2172  tas nya baguuuuuuss, sukaaaa, motif unik, penj...\n",
       "\n",
       "[2173 rows x 1 columns]"
      ]
     },
     "execution_count": 52,
     "metadata": {},
     "output_type": "execute_result"
    }
   ],
   "source": [
    "dataset"
   ]
  },
  {
   "cell_type": "code",
   "execution_count": 53,
   "metadata": {},
   "outputs": [
    {
     "name": "stdout",
     "output_type": "stream",
     "text": [
      "<class 'pandas.core.frame.DataFrame'>\n",
      "RangeIndex: 2173 entries, 0 to 2172\n",
      "Data columns (total 1 columns):\n",
      " #   Column   Non-Null Count  Dtype \n",
      "---  ------   --------------  ----- \n",
      " 0   comment  2087 non-null   object\n",
      "dtypes: object(1)\n",
      "memory usage: 17.1+ KB\n"
     ]
    }
   ],
   "source": [
    "dataset.info()"
   ]
  },
  {
   "cell_type": "code",
   "execution_count": 54,
   "metadata": {},
   "outputs": [
    {
     "data": {
      "text/plain": [
       "comment    86\n",
       "dtype: int64"
      ]
     },
     "execution_count": 54,
     "metadata": {},
     "output_type": "execute_result"
    }
   ],
   "source": [
    "dataset.isna().sum()"
   ]
  },
  {
   "cell_type": "code",
   "execution_count": 55,
   "metadata": {},
   "outputs": [
    {
     "data": {
      "text/plain": [
       "247"
      ]
     },
     "execution_count": 55,
     "metadata": {},
     "output_type": "execute_result"
    }
   ],
   "source": [
    "dataset.duplicated().sum()"
   ]
  },
  {
   "cell_type": "markdown",
   "metadata": {},
   "source": [
    "### Preprocessing"
   ]
  },
  {
   "cell_type": "markdown",
   "metadata": {},
   "source": [
    "#### 1. Case Folding"
   ]
  },
  {
   "cell_type": "code",
   "execution_count": 56,
   "metadata": {},
   "outputs": [],
   "source": [
    "dataset['comment_lower'] = dataset['comment'].str.lower()"
   ]
  },
  {
   "cell_type": "code",
   "execution_count": 57,
   "metadata": {
    "scrolled": true
   },
   "outputs": [
    {
     "data": {
      "text/html": [
       "<div>\n",
       "<style scoped>\n",
       "    .dataframe tbody tr th:only-of-type {\n",
       "        vertical-align: middle;\n",
       "    }\n",
       "\n",
       "    .dataframe tbody tr th {\n",
       "        vertical-align: top;\n",
       "    }\n",
       "\n",
       "    .dataframe thead th {\n",
       "        text-align: right;\n",
       "    }\n",
       "</style>\n",
       "<table border=\"1\" class=\"dataframe\">\n",
       "  <thead>\n",
       "    <tr style=\"text-align: right;\">\n",
       "      <th></th>\n",
       "      <th>comment</th>\n",
       "      <th>comment_lower</th>\n",
       "    </tr>\n",
       "  </thead>\n",
       "  <tbody>\n",
       "    <tr>\n",
       "      <th>0</th>\n",
       "      <td>penjualnya fast respon.. dan barang nya jg cep...</td>\n",
       "      <td>penjualnya fast respon.. dan barang nya jg cep...</td>\n",
       "    </tr>\n",
       "    <tr>\n",
       "      <th>1</th>\n",
       "      <td>recomended ... barang sesuai .. pengiriman cepat</td>\n",
       "      <td>recomended ... barang sesuai .. pengiriman cepat</td>\n",
       "    </tr>\n",
       "    <tr>\n",
       "      <th>2</th>\n",
       "      <td>kemaren pesen hari ini sdh sampai..good produk...</td>\n",
       "      <td>kemaren pesen hari ini sdh sampai..good produk...</td>\n",
       "    </tr>\n",
       "    <tr>\n",
       "      <th>3</th>\n",
       "      <td>kerennnnn pake banget</td>\n",
       "      <td>kerennnnn pake banget</td>\n",
       "    </tr>\n",
       "    <tr>\n",
       "      <th>4</th>\n",
       "      <td>Sy suka produk di toko ini. Sdh bbrp kali beli...</td>\n",
       "      <td>sy suka produk di toko ini. sdh bbrp kali beli...</td>\n",
       "    </tr>\n",
       "    <tr>\n",
       "      <th>...</th>\n",
       "      <td>...</td>\n",
       "      <td>...</td>\n",
       "    </tr>\n",
       "    <tr>\n",
       "      <th>2168</th>\n",
       "      <td>Bagus, suka suka.. walau agak lama nunggunya</td>\n",
       "      <td>bagus, suka suka.. walau agak lama nunggunya</td>\n",
       "    </tr>\n",
       "    <tr>\n",
       "      <th>2169</th>\n",
       "      <td>Sukaaa design nya, jahitannya rapi bahannya te...</td>\n",
       "      <td>sukaaa design nya, jahitannya rapi bahannya te...</td>\n",
       "    </tr>\n",
       "    <tr>\n",
       "      <th>2170</th>\n",
       "      <td>sukaaaak bagusss</td>\n",
       "      <td>sukaaaak bagusss</td>\n",
       "    </tr>\n",
       "    <tr>\n",
       "      <th>2171</th>\n",
       "      <td>Origin produk Indonesia. Komunikasi dg penjual...</td>\n",
       "      <td>origin produk indonesia. komunikasi dg penjual...</td>\n",
       "    </tr>\n",
       "    <tr>\n",
       "      <th>2172</th>\n",
       "      <td>tas nya baguuuuuuss, sukaaaa, motif unik, penj...</td>\n",
       "      <td>tas nya baguuuuuuss, sukaaaa, motif unik, penj...</td>\n",
       "    </tr>\n",
       "  </tbody>\n",
       "</table>\n",
       "<p>2173 rows × 2 columns</p>\n",
       "</div>"
      ],
      "text/plain": [
       "                                                comment  \\\n",
       "0     penjualnya fast respon.. dan barang nya jg cep...   \n",
       "1     recomended ... barang sesuai .. pengiriman cepat    \n",
       "2     kemaren pesen hari ini sdh sampai..good produk...   \n",
       "3                                 kerennnnn pake banget   \n",
       "4     Sy suka produk di toko ini. Sdh bbrp kali beli...   \n",
       "...                                                 ...   \n",
       "2168       Bagus, suka suka.. walau agak lama nunggunya   \n",
       "2169  Sukaaa design nya, jahitannya rapi bahannya te...   \n",
       "2170                                  sukaaaak bagusss    \n",
       "2171  Origin produk Indonesia. Komunikasi dg penjual...   \n",
       "2172  tas nya baguuuuuuss, sukaaaa, motif unik, penj...   \n",
       "\n",
       "                                          comment_lower  \n",
       "0     penjualnya fast respon.. dan barang nya jg cep...  \n",
       "1     recomended ... barang sesuai .. pengiriman cepat   \n",
       "2     kemaren pesen hari ini sdh sampai..good produk...  \n",
       "3                                 kerennnnn pake banget  \n",
       "4     sy suka produk di toko ini. sdh bbrp kali beli...  \n",
       "...                                                 ...  \n",
       "2168       bagus, suka suka.. walau agak lama nunggunya  \n",
       "2169  sukaaa design nya, jahitannya rapi bahannya te...  \n",
       "2170                                  sukaaaak bagusss   \n",
       "2171  origin produk indonesia. komunikasi dg penjual...  \n",
       "2172  tas nya baguuuuuuss, sukaaaa, motif unik, penj...  \n",
       "\n",
       "[2173 rows x 2 columns]"
      ]
     },
     "execution_count": 57,
     "metadata": {},
     "output_type": "execute_result"
    }
   ],
   "source": [
    "dataset"
   ]
  },
  {
   "cell_type": "markdown",
   "metadata": {},
   "source": [
    "#### 2. Noise Cleaning"
   ]
  },
  {
   "cell_type": "code",
   "execution_count": 58,
   "metadata": {},
   "outputs": [],
   "source": [
    "# menghapus duplikat\n",
    "dataset = dataset.drop_duplicates(keep='first')\n",
    "\n",
    "# menghapus baris yang memiliki nilai NaN pada kolom comment\n",
    "dataset = dataset.dropna(subset=['comment'])"
   ]
  },
  {
   "cell_type": "code",
   "execution_count": 59,
   "metadata": {},
   "outputs": [],
   "source": [
    "def noise_cleaning(teks):\n",
    "    teks = emoji.replace_emoji(teks, replace='')        # hapus emoji\n",
    "    teks = re.sub(r'&[a-zA-Z]+;', '', teks)             # bersihkan tag html\n",
    "    teks = re.sub(r'[^\\w\\s]', ' ', teks)                # ganti tanda baca dengan spasi\n",
    "    teks = re.sub(r'\\b[a-zA-Z]\\b', '', teks)            # hapus satu huruf\n",
    "    teks = re.sub(r'\\s+', ' ', teks).strip()            # hapus spasi berlebih\n",
    "    teks = re.sub(r'(\\w+?)(nya)\\b', r'\\1 \\2', teks)     # memisahkan kata (+nya)\n",
    "    teks = re.sub(r'(.)\\1{1,}', r'\\1', teks)            # menghapus huruf berulang\n",
    "    teks = re.sub(r'\\bgod\\b', 'good', teks)             # mengganti kata god menjadi good\n",
    "    return teks"
   ]
  },
  {
   "cell_type": "code",
   "execution_count": 60,
   "metadata": {},
   "outputs": [],
   "source": [
    "# apply noise cleaning\n",
    "dataset['comment_clean'] = dataset['comment_lower'].apply(noise_cleaning)"
   ]
  },
  {
   "cell_type": "code",
   "execution_count": 61,
   "metadata": {},
   "outputs": [],
   "source": [
    "# mengubah teks kosong menjadi NaN\n",
    "dataset['comment_clean'] = dataset['comment_clean'].replace('', np.nan) "
   ]
  },
  {
   "cell_type": "code",
   "execution_count": 62,
   "metadata": {
    "scrolled": true
   },
   "outputs": [],
   "source": [
    "# menghapus baris yang memiliki nilai NaN pada kolom comment_clean\n",
    "dataset = dataset.dropna(subset=['comment_clean'])"
   ]
  },
  {
   "cell_type": "code",
   "execution_count": 63,
   "metadata": {},
   "outputs": [
    {
     "data": {
      "text/plain": [
       "(1905, 3)"
      ]
     },
     "execution_count": 63,
     "metadata": {},
     "output_type": "execute_result"
    }
   ],
   "source": [
    "dataset.shape"
   ]
  },
  {
   "cell_type": "markdown",
   "metadata": {},
   "source": [
    "#### 3. Normalisasi"
   ]
  },
  {
   "cell_type": "code",
   "execution_count": 64,
   "metadata": {},
   "outputs": [],
   "source": [
    "# load dataset normalisasi\n",
    "kamus_alay = pd.read_csv('D:\\SKRIPSI\\Program\\data\\kamusalay.csv', names=['alay', 'baku'], encoding='ISO-8859-1')"
   ]
  },
  {
   "cell_type": "code",
   "execution_count": 65,
   "metadata": {},
   "outputs": [],
   "source": [
    "# membuat dictionary dari kamusalay.csv\n",
    "normalisasi_dict_2 = dict(zip(kamus_alay['alay'], kamus_alay['baku']))"
   ]
  },
  {
   "cell_type": "code",
   "execution_count": 66,
   "metadata": {},
   "outputs": [],
   "source": [
    "# membuat fungsi normalisasi \n",
    "def normalisasi_teks_2(teks):\n",
    "    kata_list = teks.split()\n",
    "    hasil = []\n",
    "    for kata in kata_list:\n",
    "        if kata in normalisasi_dict_2:\n",
    "            hasil.append(normalisasi_dict_2[kata])\n",
    "        else:\n",
    "            hasil.append(kata)\n",
    "    return ' '.join(hasil)"
   ]
  },
  {
   "cell_type": "code",
   "execution_count": 67,
   "metadata": {},
   "outputs": [],
   "source": [
    "# apply normalisasi \n",
    "dataset['comment_normalized'] = dataset['comment_clean'].apply(normalisasi_teks_2)"
   ]
  },
  {
   "cell_type": "code",
   "execution_count": 68,
   "metadata": {
    "scrolled": true
   },
   "outputs": [
    {
     "data": {
      "text/html": [
       "<div>\n",
       "<style scoped>\n",
       "    .dataframe tbody tr th:only-of-type {\n",
       "        vertical-align: middle;\n",
       "    }\n",
       "\n",
       "    .dataframe tbody tr th {\n",
       "        vertical-align: top;\n",
       "    }\n",
       "\n",
       "    .dataframe thead th {\n",
       "        text-align: right;\n",
       "    }\n",
       "</style>\n",
       "<table border=\"1\" class=\"dataframe\">\n",
       "  <thead>\n",
       "    <tr style=\"text-align: right;\">\n",
       "      <th></th>\n",
       "      <th>comment</th>\n",
       "      <th>comment_lower</th>\n",
       "      <th>comment_clean</th>\n",
       "      <th>comment_normalized</th>\n",
       "    </tr>\n",
       "  </thead>\n",
       "  <tbody>\n",
       "    <tr>\n",
       "      <th>0</th>\n",
       "      <td>penjualnya fast respon.. dan barang nya jg cep...</td>\n",
       "      <td>penjualnya fast respon.. dan barang nya jg cep...</td>\n",
       "      <td>penjual nya fast respon dan barang nya jg cepe...</td>\n",
       "      <td>penjual nya fast respon dan barang nya juga ce...</td>\n",
       "    </tr>\n",
       "    <tr>\n",
       "      <th>1</th>\n",
       "      <td>recomended ... barang sesuai .. pengiriman cepat</td>\n",
       "      <td>recomended ... barang sesuai .. pengiriman cepat</td>\n",
       "      <td>recomended barang sesuai pengiriman cepat</td>\n",
       "      <td>recomended barang sesuai pengiriman cepat</td>\n",
       "    </tr>\n",
       "    <tr>\n",
       "      <th>2</th>\n",
       "      <td>kemaren pesen hari ini sdh sampai..good produk...</td>\n",
       "      <td>kemaren pesen hari ini sdh sampai..good produk...</td>\n",
       "      <td>kemaren pesen hari ini sdh sampai good produk ...</td>\n",
       "      <td>kemarin pesan hari ini sudah sampai good produ...</td>\n",
       "    </tr>\n",
       "    <tr>\n",
       "      <th>3</th>\n",
       "      <td>kerennnnn pake banget</td>\n",
       "      <td>kerennnnn pake banget</td>\n",
       "      <td>keren pake banget</td>\n",
       "      <td>keren pakai banget</td>\n",
       "    </tr>\n",
       "    <tr>\n",
       "      <th>4</th>\n",
       "      <td>Sy suka produk di toko ini. Sdh bbrp kali beli...</td>\n",
       "      <td>sy suka produk di toko ini. sdh bbrp kali beli...</td>\n",
       "      <td>sy suka produk di toko ini sdh brp kali beli d...</td>\n",
       "      <td>saya suka produk di toko ini sudah berapa kali...</td>\n",
       "    </tr>\n",
       "    <tr>\n",
       "      <th>...</th>\n",
       "      <td>...</td>\n",
       "      <td>...</td>\n",
       "      <td>...</td>\n",
       "      <td>...</td>\n",
       "    </tr>\n",
       "    <tr>\n",
       "      <th>2168</th>\n",
       "      <td>Bagus, suka suka.. walau agak lama nunggunya</td>\n",
       "      <td>bagus, suka suka.. walau agak lama nunggunya</td>\n",
       "      <td>bagus suka suka walau agak lama nungu nya</td>\n",
       "      <td>bagus suka suka walau agak lama nungu nya</td>\n",
       "    </tr>\n",
       "    <tr>\n",
       "      <th>2169</th>\n",
       "      <td>Sukaaa design nya, jahitannya rapi bahannya te...</td>\n",
       "      <td>sukaaa design nya, jahitannya rapi bahannya te...</td>\n",
       "      <td>suka design nya jahitan nya rapi bahan nya teb...</td>\n",
       "      <td>suka design nya jahitan nya rapi bahan nya teb...</td>\n",
       "    </tr>\n",
       "    <tr>\n",
       "      <th>2170</th>\n",
       "      <td>sukaaaak bagusss</td>\n",
       "      <td>sukaaaak bagusss</td>\n",
       "      <td>sukak bagus</td>\n",
       "      <td>suka bagus</td>\n",
       "    </tr>\n",
       "    <tr>\n",
       "      <th>2171</th>\n",
       "      <td>Origin produk Indonesia. Komunikasi dg penjual...</td>\n",
       "      <td>origin produk indonesia. komunikasi dg penjual...</td>\n",
       "      <td>origin produk indonesia komunikasi dg penjual ...</td>\n",
       "      <td>origin produk indonesia komunikasi dengan penj...</td>\n",
       "    </tr>\n",
       "    <tr>\n",
       "      <th>2172</th>\n",
       "      <td>tas nya baguuuuuuss, sukaaaa, motif unik, penj...</td>\n",
       "      <td>tas nya baguuuuuuss, sukaaaa, motif unik, penj...</td>\n",
       "      <td>tas nya bagus suka motif unik penjual ramah pa...</td>\n",
       "      <td>tas nya bagus suka motif unik penjual ramah pa...</td>\n",
       "    </tr>\n",
       "  </tbody>\n",
       "</table>\n",
       "<p>1905 rows × 4 columns</p>\n",
       "</div>"
      ],
      "text/plain": [
       "                                                comment  \\\n",
       "0     penjualnya fast respon.. dan barang nya jg cep...   \n",
       "1     recomended ... barang sesuai .. pengiriman cepat    \n",
       "2     kemaren pesen hari ini sdh sampai..good produk...   \n",
       "3                                 kerennnnn pake banget   \n",
       "4     Sy suka produk di toko ini. Sdh bbrp kali beli...   \n",
       "...                                                 ...   \n",
       "2168       Bagus, suka suka.. walau agak lama nunggunya   \n",
       "2169  Sukaaa design nya, jahitannya rapi bahannya te...   \n",
       "2170                                  sukaaaak bagusss    \n",
       "2171  Origin produk Indonesia. Komunikasi dg penjual...   \n",
       "2172  tas nya baguuuuuuss, sukaaaa, motif unik, penj...   \n",
       "\n",
       "                                          comment_lower  \\\n",
       "0     penjualnya fast respon.. dan barang nya jg cep...   \n",
       "1     recomended ... barang sesuai .. pengiriman cepat    \n",
       "2     kemaren pesen hari ini sdh sampai..good produk...   \n",
       "3                                 kerennnnn pake banget   \n",
       "4     sy suka produk di toko ini. sdh bbrp kali beli...   \n",
       "...                                                 ...   \n",
       "2168       bagus, suka suka.. walau agak lama nunggunya   \n",
       "2169  sukaaa design nya, jahitannya rapi bahannya te...   \n",
       "2170                                  sukaaaak bagusss    \n",
       "2171  origin produk indonesia. komunikasi dg penjual...   \n",
       "2172  tas nya baguuuuuuss, sukaaaa, motif unik, penj...   \n",
       "\n",
       "                                          comment_clean  \\\n",
       "0     penjual nya fast respon dan barang nya jg cepe...   \n",
       "1             recomended barang sesuai pengiriman cepat   \n",
       "2     kemaren pesen hari ini sdh sampai good produk ...   \n",
       "3                                     keren pake banget   \n",
       "4     sy suka produk di toko ini sdh brp kali beli d...   \n",
       "...                                                 ...   \n",
       "2168          bagus suka suka walau agak lama nungu nya   \n",
       "2169  suka design nya jahitan nya rapi bahan nya teb...   \n",
       "2170                                        sukak bagus   \n",
       "2171  origin produk indonesia komunikasi dg penjual ...   \n",
       "2172  tas nya bagus suka motif unik penjual ramah pa...   \n",
       "\n",
       "                                     comment_normalized  \n",
       "0     penjual nya fast respon dan barang nya juga ce...  \n",
       "1             recomended barang sesuai pengiriman cepat  \n",
       "2     kemarin pesan hari ini sudah sampai good produ...  \n",
       "3                                    keren pakai banget  \n",
       "4     saya suka produk di toko ini sudah berapa kali...  \n",
       "...                                                 ...  \n",
       "2168          bagus suka suka walau agak lama nungu nya  \n",
       "2169  suka design nya jahitan nya rapi bahan nya teb...  \n",
       "2170                                         suka bagus  \n",
       "2171  origin produk indonesia komunikasi dengan penj...  \n",
       "2172  tas nya bagus suka motif unik penjual ramah pa...  \n",
       "\n",
       "[1905 rows x 4 columns]"
      ]
     },
     "execution_count": 68,
     "metadata": {},
     "output_type": "execute_result"
    }
   ],
   "source": [
    "dataset"
   ]
  },
  {
   "cell_type": "markdown",
   "metadata": {},
   "source": [
    "### Melatih Dataset Menggunakan Model Word2Vec"
   ]
  },
  {
   "cell_type": "code",
   "execution_count": 69,
   "metadata": {},
   "outputs": [],
   "source": [
    "import os\n",
    "import pandas as pd\n",
    "import nltk\n",
    "from tqdm.auto import tqdm\n",
    "from nltk.tokenize import word_tokenize\n",
    "from gensim.models import Word2Vec"
   ]
  },
  {
   "cell_type": "code",
   "execution_count": 70,
   "metadata": {},
   "outputs": [
    {
     "data": {
      "application/vnd.jupyter.widget-view+json": {
       "model_id": "55ac797f9a554d0fae7ac05644501c90",
       "version_major": 2,
       "version_minor": 0
      },
      "text/plain": [
       "  0%|          | 0/1905 [00:00<?, ?it/s]"
      ]
     },
     "metadata": {},
     "output_type": "display_data"
    },
    {
     "data": {
      "text/plain": [
       "[['penjual',\n",
       "  'nya',\n",
       "  'fast',\n",
       "  'respon',\n",
       "  'dan',\n",
       "  'barang',\n",
       "  'nya',\n",
       "  'juga',\n",
       "  'cepat',\n",
       "  'datang',\n",
       "  'pokok',\n",
       "  'nya',\n",
       "  'fast',\n",
       "  'and',\n",
       "  'fast'],\n",
       " ['recomended', 'barang', 'sesuai', 'pengiriman', 'cepat'],\n",
       " ['kemarin',\n",
       "  'pesan',\n",
       "  'hari',\n",
       "  'ini',\n",
       "  'sudah',\n",
       "  'sampai',\n",
       "  'good',\n",
       "  'produk',\n",
       "  'nya',\n",
       "  'thanks'],\n",
       " ['keren', 'pakai', 'banget'],\n",
       " ['saya',\n",
       "  'suka',\n",
       "  'produk',\n",
       "  'di',\n",
       "  'toko',\n",
       "  'ini',\n",
       "  'sudah',\n",
       "  'berapa',\n",
       "  'kali',\n",
       "  'beli',\n",
       "  'dan',\n",
       "  'selalu',\n",
       "  'puas',\n",
       "  'dengan',\n",
       "  'servis',\n",
       "  'dan',\n",
       "  'pengiriman',\n",
       "  'nya']]"
      ]
     },
     "execution_count": 70,
     "metadata": {},
     "output_type": "execute_result"
    }
   ],
   "source": [
    "sentences = [word_tokenize(str(text).lower()) for text in tqdm(dataset.comment_normalized)]\n",
    "sentences[:5]"
   ]
  },
  {
   "cell_type": "markdown",
   "metadata": {},
   "source": [
    "#### Training Model"
   ]
  },
  {
   "cell_type": "code",
   "execution_count": 71,
   "metadata": {},
   "outputs": [],
   "source": [
    "# model = Word2Vec(sentences, \n",
    "#                  vector_size=128, \n",
    "#                  window=3, \n",
    "#                  min_count=1, \n",
    "#                  workers=4, \n",
    "#                  epochs=1000, \n",
    "#                  sg=0, # CBOW\n",
    "#                  hs=0)"
   ]
  },
  {
   "cell_type": "markdown",
   "metadata": {},
   "source": [
    "#### Save Model"
   ]
  },
  {
   "cell_type": "code",
   "execution_count": 72,
   "metadata": {},
   "outputs": [],
   "source": [
    "# os.makedirs(\"model/w2v/\", exist_ok = True)"
   ]
  },
  {
   "cell_type": "code",
   "execution_count": 73,
   "metadata": {},
   "outputs": [],
   "source": [
    "# model.save(\"model/w2v/pretrained_model\")"
   ]
  },
  {
   "cell_type": "markdown",
   "metadata": {},
   "source": [
    "#### Ekstrak Similiar Words"
   ]
  },
  {
   "cell_type": "code",
   "execution_count": 74,
   "metadata": {},
   "outputs": [],
   "source": [
    "model = Word2Vec.load(\"model/w2v/pretrained_model\")"
   ]
  },
  {
   "cell_type": "code",
   "execution_count": 75,
   "metadata": {},
   "outputs": [],
   "source": [
    "w2v = model.wv"
   ]
  },
  {
   "cell_type": "code",
   "execution_count": 76,
   "metadata": {},
   "outputs": [],
   "source": [
    "# ekstrak similar word berdasarkan variabel kamus_kata_benda\n",
    "kamus_kata_benda = [\"tas\", \"totebag\",\"desain\", \"penampilan\", \"gaya\", \"motif\", \"warna\", \"ukuran\", \"bentuk\",\n",
    "                    \"bahan\", \"kain\", \"jahitan\", \"tampilan\",\"potongan\"]\n",
    "similar_words = {}\n",
    "for kata in kamus_kata_benda:\n",
    "    try:\n",
    "        similar_words[kata] = w2v.most_similar(kata, topn=10)\n",
    "    except KeyError:\n",
    "        similar_words[kata] = []"
   ]
  },
  {
   "cell_type": "code",
   "execution_count": 78,
   "metadata": {},
   "outputs": [],
   "source": [
    "from itertools import chain"
   ]
  },
  {
   "cell_type": "code",
   "execution_count": 79,
   "metadata": {},
   "outputs": [
    {
     "data": {
      "text/html": [
       "<div>\n",
       "<style scoped>\n",
       "    .dataframe tbody tr th:only-of-type {\n",
       "        vertical-align: middle;\n",
       "    }\n",
       "\n",
       "    .dataframe tbody tr th {\n",
       "        vertical-align: top;\n",
       "    }\n",
       "\n",
       "    .dataframe thead th {\n",
       "        text-align: right;\n",
       "    }\n",
       "</style>\n",
       "<table border=\"1\" class=\"dataframe\">\n",
       "  <thead>\n",
       "    <tr style=\"text-align: right;\">\n",
       "      <th></th>\n",
       "      <th>kata</th>\n",
       "      <th>similar_words</th>\n",
       "    </tr>\n",
       "  </thead>\n",
       "  <tbody>\n",
       "    <tr>\n",
       "      <th>0</th>\n",
       "      <td>banget</td>\n",
       "      <td>0.513795</td>\n",
       "    </tr>\n",
       "    <tr>\n",
       "      <th>1</th>\n",
       "      <td>dan</td>\n",
       "      <td>0.461606</td>\n",
       "    </tr>\n",
       "    <tr>\n",
       "      <th>2</th>\n",
       "      <td>nya</td>\n",
       "      <td>0.454236</td>\n",
       "    </tr>\n",
       "    <tr>\n",
       "      <th>3</th>\n",
       "      <td>juga</td>\n",
       "      <td>0.436078</td>\n",
       "    </tr>\n",
       "    <tr>\n",
       "      <th>4</th>\n",
       "      <td>lucu</td>\n",
       "      <td>0.412517</td>\n",
       "    </tr>\n",
       "    <tr>\n",
       "      <th>...</th>\n",
       "      <td>...</td>\n",
       "      <td>...</td>\n",
       "    </tr>\n",
       "    <tr>\n",
       "      <th>135</th>\n",
       "      <td>desain</td>\n",
       "      <td>0.489571</td>\n",
       "    </tr>\n",
       "    <tr>\n",
       "      <th>136</th>\n",
       "      <td>terlihat</td>\n",
       "      <td>0.485324</td>\n",
       "    </tr>\n",
       "    <tr>\n",
       "      <th>137</th>\n",
       "      <td>tebal</td>\n",
       "      <td>0.419798</td>\n",
       "    </tr>\n",
       "    <tr>\n",
       "      <th>138</th>\n",
       "      <td>produk</td>\n",
       "      <td>0.369767</td>\n",
       "    </tr>\n",
       "    <tr>\n",
       "      <th>139</th>\n",
       "      <td>kualitas</td>\n",
       "      <td>0.369545</td>\n",
       "    </tr>\n",
       "  </tbody>\n",
       "</table>\n",
       "<p>140 rows × 2 columns</p>\n",
       "</div>"
      ],
      "text/plain": [
       "         kata  similar_words\n",
       "0      banget       0.513795\n",
       "1         dan       0.461606\n",
       "2         nya       0.454236\n",
       "3        juga       0.436078\n",
       "4        lucu       0.412517\n",
       "..        ...            ...\n",
       "135    desain       0.489571\n",
       "136  terlihat       0.485324\n",
       "137     tebal       0.419798\n",
       "138    produk       0.369767\n",
       "139  kualitas       0.369545\n",
       "\n",
       "[140 rows x 2 columns]"
      ]
     },
     "execution_count": 79,
     "metadata": {},
     "output_type": "execute_result"
    }
   ],
   "source": [
    "# jadikan dataframe\n",
    "df_similar_word = pd.DataFrame(list(chain(*similar_words.values())), columns=['kata', 'similar_words'])\n",
    "df_similar_word"
   ]
  },
  {
   "cell_type": "markdown",
   "metadata": {},
   "source": [
    "### Validasi Kata *Kansei* Menggunakan Kamus *Kansei*"
   ]
  },
  {
   "cell_type": "code",
   "execution_count": 81,
   "metadata": {},
   "outputs": [],
   "source": [
    "kamus_kata_sifat = [\n",
    "                    \"rapi\", \"unik\", \"nyaman\", \"aman\", \"modern\", \"lembut\", \"elegan\", \"antik\", \"menarik\", \n",
    "                    \"sederhana\", \"kreatif\", \"berwarna-warni\", \"modis\", \"estetis\", \"ekspresif\", \n",
    "                    \"artistik\", \"halus\", \"lembut\", \"retro\", \"ceria\", \"cerah\", \n",
    "                    \"modis\", \"fashionable\", \"klasik\", \"canggih\", \"stabil\", \"feminin\", \"profesional\", \n",
    "                    \"kasual\", \"hidup\", \"penuh suasana\", \"kuat\", \"mewah\", \"minimalis\", \"formal\",  \n",
    "                    \"khas\", \"ringan\", \"simpel\", \"kompleks\", \"kontemporer\", \"maskulin\"\n",
    "                    \"keren\", \"bagus\", \"cantik\", \"lucu\", \"kalem\", \"natural\", \"tebal\"\n",
    "                    ]"
   ]
  },
  {
   "cell_type": "code",
   "execution_count": 82,
   "metadata": {},
   "outputs": [
    {
     "data": {
      "text/html": [
       "<div>\n",
       "<style scoped>\n",
       "    .dataframe tbody tr th:only-of-type {\n",
       "        vertical-align: middle;\n",
       "    }\n",
       "\n",
       "    .dataframe tbody tr th {\n",
       "        vertical-align: top;\n",
       "    }\n",
       "\n",
       "    .dataframe thead th {\n",
       "        text-align: right;\n",
       "    }\n",
       "</style>\n",
       "<table border=\"1\" class=\"dataframe\">\n",
       "  <thead>\n",
       "    <tr style=\"text-align: right;\">\n",
       "      <th></th>\n",
       "      <th>kata</th>\n",
       "      <th>similar_words</th>\n",
       "    </tr>\n",
       "  </thead>\n",
       "  <tbody>\n",
       "    <tr>\n",
       "      <th>4</th>\n",
       "      <td>lucu</td>\n",
       "      <td>0.412517</td>\n",
       "    </tr>\n",
       "    <tr>\n",
       "      <th>5</th>\n",
       "      <td>bagus</td>\n",
       "      <td>0.403965</td>\n",
       "    </tr>\n",
       "    <tr>\n",
       "      <th>20</th>\n",
       "      <td>lembut</td>\n",
       "      <td>0.493182</td>\n",
       "    </tr>\n",
       "    <tr>\n",
       "      <th>23</th>\n",
       "      <td>cantik</td>\n",
       "      <td>0.427603</td>\n",
       "    </tr>\n",
       "    <tr>\n",
       "      <th>25</th>\n",
       "      <td>nyaman</td>\n",
       "      <td>0.385397</td>\n",
       "    </tr>\n",
       "    <tr>\n",
       "      <th>26</th>\n",
       "      <td>rapi</td>\n",
       "      <td>0.374885</td>\n",
       "    </tr>\n",
       "    <tr>\n",
       "      <th>57</th>\n",
       "      <td>bagus</td>\n",
       "      <td>0.257909</td>\n",
       "    </tr>\n",
       "    <tr>\n",
       "      <th>62</th>\n",
       "      <td>bagus</td>\n",
       "      <td>0.436105</td>\n",
       "    </tr>\n",
       "    <tr>\n",
       "      <th>64</th>\n",
       "      <td>rapi</td>\n",
       "      <td>0.405559</td>\n",
       "    </tr>\n",
       "    <tr>\n",
       "      <th>69</th>\n",
       "      <td>lucu</td>\n",
       "      <td>0.315468</td>\n",
       "    </tr>\n",
       "    <tr>\n",
       "      <th>73</th>\n",
       "      <td>bagus</td>\n",
       "      <td>0.395785</td>\n",
       "    </tr>\n",
       "    <tr>\n",
       "      <th>74</th>\n",
       "      <td>cantik</td>\n",
       "      <td>0.393932</td>\n",
       "    </tr>\n",
       "    <tr>\n",
       "      <th>91</th>\n",
       "      <td>bagus</td>\n",
       "      <td>0.524303</td>\n",
       "    </tr>\n",
       "    <tr>\n",
       "      <th>92</th>\n",
       "      <td>cantik</td>\n",
       "      <td>0.515965</td>\n",
       "    </tr>\n",
       "    <tr>\n",
       "      <th>93</th>\n",
       "      <td>rapi</td>\n",
       "      <td>0.513508</td>\n",
       "    </tr>\n",
       "    <tr>\n",
       "      <th>110</th>\n",
       "      <td>lembut</td>\n",
       "      <td>0.501401</td>\n",
       "    </tr>\n",
       "    <tr>\n",
       "      <th>112</th>\n",
       "      <td>cantik</td>\n",
       "      <td>0.455728</td>\n",
       "    </tr>\n",
       "    <tr>\n",
       "      <th>116</th>\n",
       "      <td>bagus</td>\n",
       "      <td>0.413705</td>\n",
       "    </tr>\n",
       "    <tr>\n",
       "      <th>117</th>\n",
       "      <td>nyaman</td>\n",
       "      <td>0.403546</td>\n",
       "    </tr>\n",
       "    <tr>\n",
       "      <th>120</th>\n",
       "      <td>modern</td>\n",
       "      <td>0.430758</td>\n",
       "    </tr>\n",
       "    <tr>\n",
       "      <th>122</th>\n",
       "      <td>kasual</td>\n",
       "      <td>0.420815</td>\n",
       "    </tr>\n",
       "    <tr>\n",
       "      <th>123</th>\n",
       "      <td>elegan</td>\n",
       "      <td>0.401474</td>\n",
       "    </tr>\n",
       "    <tr>\n",
       "      <th>124</th>\n",
       "      <td>simpel</td>\n",
       "      <td>0.387682</td>\n",
       "    </tr>\n",
       "    <tr>\n",
       "      <th>130</th>\n",
       "      <td>lembut</td>\n",
       "      <td>0.661340</td>\n",
       "    </tr>\n",
       "    <tr>\n",
       "      <th>131</th>\n",
       "      <td>cantik</td>\n",
       "      <td>0.602247</td>\n",
       "    </tr>\n",
       "    <tr>\n",
       "      <th>132</th>\n",
       "      <td>nyaman</td>\n",
       "      <td>0.510321</td>\n",
       "    </tr>\n",
       "    <tr>\n",
       "      <th>137</th>\n",
       "      <td>tebal</td>\n",
       "      <td>0.419798</td>\n",
       "    </tr>\n",
       "  </tbody>\n",
       "</table>\n",
       "</div>"
      ],
      "text/plain": [
       "       kata  similar_words\n",
       "4      lucu       0.412517\n",
       "5     bagus       0.403965\n",
       "20   lembut       0.493182\n",
       "23   cantik       0.427603\n",
       "25   nyaman       0.385397\n",
       "26     rapi       0.374885\n",
       "57    bagus       0.257909\n",
       "62    bagus       0.436105\n",
       "64     rapi       0.405559\n",
       "69     lucu       0.315468\n",
       "73    bagus       0.395785\n",
       "74   cantik       0.393932\n",
       "91    bagus       0.524303\n",
       "92   cantik       0.515965\n",
       "93     rapi       0.513508\n",
       "110  lembut       0.501401\n",
       "112  cantik       0.455728\n",
       "116   bagus       0.413705\n",
       "117  nyaman       0.403546\n",
       "120  modern       0.430758\n",
       "122  kasual       0.420815\n",
       "123  elegan       0.401474\n",
       "124  simpel       0.387682\n",
       "130  lembut       0.661340\n",
       "131  cantik       0.602247\n",
       "132  nyaman       0.510321\n",
       "137   tebal       0.419798"
      ]
     },
     "execution_count": 82,
     "metadata": {},
     "output_type": "execute_result"
    }
   ],
   "source": [
    "# ekstrak df_similar_word berdasarkan kamus_kata_benda\n",
    "df_kata_kansei = df_similar_word[df_similar_word['kata'].isin(kamus_kata_sifat)]\n",
    "df_kata_kansei "
   ]
  },
  {
   "cell_type": "code",
   "execution_count": 83,
   "metadata": {},
   "outputs": [
    {
     "data": {
      "text/html": [
       "<div>\n",
       "<style scoped>\n",
       "    .dataframe tbody tr th:only-of-type {\n",
       "        vertical-align: middle;\n",
       "    }\n",
       "\n",
       "    .dataframe tbody tr th {\n",
       "        vertical-align: top;\n",
       "    }\n",
       "\n",
       "    .dataframe thead th {\n",
       "        text-align: right;\n",
       "    }\n",
       "</style>\n",
       "<table border=\"1\" class=\"dataframe\">\n",
       "  <thead>\n",
       "    <tr style=\"text-align: right;\">\n",
       "      <th></th>\n",
       "      <th>kata</th>\n",
       "      <th>similar_words</th>\n",
       "    </tr>\n",
       "  </thead>\n",
       "  <tbody>\n",
       "    <tr>\n",
       "      <th>91</th>\n",
       "      <td>bagus</td>\n",
       "      <td>0.524303</td>\n",
       "    </tr>\n",
       "    <tr>\n",
       "      <th>131</th>\n",
       "      <td>cantik</td>\n",
       "      <td>0.602247</td>\n",
       "    </tr>\n",
       "    <tr>\n",
       "      <th>123</th>\n",
       "      <td>elegan</td>\n",
       "      <td>0.401474</td>\n",
       "    </tr>\n",
       "    <tr>\n",
       "      <th>122</th>\n",
       "      <td>kasual</td>\n",
       "      <td>0.420815</td>\n",
       "    </tr>\n",
       "    <tr>\n",
       "      <th>130</th>\n",
       "      <td>lembut</td>\n",
       "      <td>0.661340</td>\n",
       "    </tr>\n",
       "    <tr>\n",
       "      <th>4</th>\n",
       "      <td>lucu</td>\n",
       "      <td>0.412517</td>\n",
       "    </tr>\n",
       "    <tr>\n",
       "      <th>120</th>\n",
       "      <td>modern</td>\n",
       "      <td>0.430758</td>\n",
       "    </tr>\n",
       "    <tr>\n",
       "      <th>132</th>\n",
       "      <td>nyaman</td>\n",
       "      <td>0.510321</td>\n",
       "    </tr>\n",
       "    <tr>\n",
       "      <th>93</th>\n",
       "      <td>rapi</td>\n",
       "      <td>0.513508</td>\n",
       "    </tr>\n",
       "    <tr>\n",
       "      <th>124</th>\n",
       "      <td>simpel</td>\n",
       "      <td>0.387682</td>\n",
       "    </tr>\n",
       "    <tr>\n",
       "      <th>137</th>\n",
       "      <td>tebal</td>\n",
       "      <td>0.419798</td>\n",
       "    </tr>\n",
       "  </tbody>\n",
       "</table>\n",
       "</div>"
      ],
      "text/plain": [
       "       kata  similar_words\n",
       "91    bagus       0.524303\n",
       "131  cantik       0.602247\n",
       "123  elegan       0.401474\n",
       "122  kasual       0.420815\n",
       "130  lembut       0.661340\n",
       "4      lucu       0.412517\n",
       "120  modern       0.430758\n",
       "132  nyaman       0.510321\n",
       "93     rapi       0.513508\n",
       "124  simpel       0.387682\n",
       "137   tebal       0.419798"
      ]
     },
     "execution_count": 83,
     "metadata": {},
     "output_type": "execute_result"
    }
   ],
   "source": [
    "# menyaring kata kansei yang memiliki similar words yang tinggi\n",
    "df_kata_kansei = df_kata_kansei.loc[df_kata_kansei.groupby('kata')['similar_words'].idxmax()]\n",
    "df_kata_kansei"
   ]
  },
  {
   "cell_type": "code",
   "execution_count": 84,
   "metadata": {},
   "outputs": [],
   "source": [
    "# mendapatkan vektor dari kata-kata kansei\n",
    "def get_word_vector(word):\n",
    "    try:\n",
    "        return w2v[word]\n",
    "    except KeyError:\n",
    "        return np.zeros(w2v.vector_size)\n",
    "# mendapatkan vektor untuk setiap kata\n",
    "df_kata_kansei['vektor'] = df_kata_kansei['kata'].apply(get_word_vector)"
   ]
  },
  {
   "cell_type": "code",
   "execution_count": 85,
   "metadata": {},
   "outputs": [
    {
     "data": {
      "text/html": [
       "<div>\n",
       "<style scoped>\n",
       "    .dataframe tbody tr th:only-of-type {\n",
       "        vertical-align: middle;\n",
       "    }\n",
       "\n",
       "    .dataframe tbody tr th {\n",
       "        vertical-align: top;\n",
       "    }\n",
       "\n",
       "    .dataframe thead th {\n",
       "        text-align: right;\n",
       "    }\n",
       "</style>\n",
       "<table border=\"1\" class=\"dataframe\">\n",
       "  <thead>\n",
       "    <tr style=\"text-align: right;\">\n",
       "      <th></th>\n",
       "      <th>kata</th>\n",
       "      <th>similar_words</th>\n",
       "      <th>vektor</th>\n",
       "    </tr>\n",
       "  </thead>\n",
       "  <tbody>\n",
       "    <tr>\n",
       "      <th>91</th>\n",
       "      <td>bagus</td>\n",
       "      <td>0.524303</td>\n",
       "      <td>[-0.48358458, 1.3537197, -0.40575576, 0.116827...</td>\n",
       "    </tr>\n",
       "    <tr>\n",
       "      <th>131</th>\n",
       "      <td>cantik</td>\n",
       "      <td>0.602247</td>\n",
       "      <td>[-1.0010285, 0.02112281, -1.0137289, 0.9863603...</td>\n",
       "    </tr>\n",
       "    <tr>\n",
       "      <th>123</th>\n",
       "      <td>elegan</td>\n",
       "      <td>0.401474</td>\n",
       "      <td>[0.7857313, 1.7321349, -1.9406658, 1.4515483, ...</td>\n",
       "    </tr>\n",
       "    <tr>\n",
       "      <th>122</th>\n",
       "      <td>kasual</td>\n",
       "      <td>0.420815</td>\n",
       "      <td>[0.9295768, -1.4440308, 0.29617244, -1.3333489...</td>\n",
       "    </tr>\n",
       "    <tr>\n",
       "      <th>130</th>\n",
       "      <td>lembut</td>\n",
       "      <td>0.661340</td>\n",
       "      <td>[0.2618268, 0.21090002, -1.5237114, 0.7171513,...</td>\n",
       "    </tr>\n",
       "    <tr>\n",
       "      <th>4</th>\n",
       "      <td>lucu</td>\n",
       "      <td>0.412517</td>\n",
       "      <td>[0.10866257, 2.1779838, -0.7292379, -0.6229986...</td>\n",
       "    </tr>\n",
       "    <tr>\n",
       "      <th>120</th>\n",
       "      <td>modern</td>\n",
       "      <td>0.430758</td>\n",
       "      <td>[1.2598077, 0.16683854, -0.3510573, -0.2913357...</td>\n",
       "    </tr>\n",
       "    <tr>\n",
       "      <th>132</th>\n",
       "      <td>nyaman</td>\n",
       "      <td>0.510321</td>\n",
       "      <td>[-2.3342586, 0.5450047, -1.0799592, -1.732611,...</td>\n",
       "    </tr>\n",
       "    <tr>\n",
       "      <th>93</th>\n",
       "      <td>rapi</td>\n",
       "      <td>0.513508</td>\n",
       "      <td>[-2.0491467, 1.0353884, 0.5865311, -0.28014356...</td>\n",
       "    </tr>\n",
       "    <tr>\n",
       "      <th>124</th>\n",
       "      <td>simpel</td>\n",
       "      <td>0.387682</td>\n",
       "      <td>[1.656277, 1.0110875, -2.802456, 0.009799599, ...</td>\n",
       "    </tr>\n",
       "    <tr>\n",
       "      <th>137</th>\n",
       "      <td>tebal</td>\n",
       "      <td>0.419798</td>\n",
       "      <td>[-0.32996908, -1.2904714, -0.8981018, 1.512754...</td>\n",
       "    </tr>\n",
       "  </tbody>\n",
       "</table>\n",
       "</div>"
      ],
      "text/plain": [
       "       kata  similar_words                                             vektor\n",
       "91    bagus       0.524303  [-0.48358458, 1.3537197, -0.40575576, 0.116827...\n",
       "131  cantik       0.602247  [-1.0010285, 0.02112281, -1.0137289, 0.9863603...\n",
       "123  elegan       0.401474  [0.7857313, 1.7321349, -1.9406658, 1.4515483, ...\n",
       "122  kasual       0.420815  [0.9295768, -1.4440308, 0.29617244, -1.3333489...\n",
       "130  lembut       0.661340  [0.2618268, 0.21090002, -1.5237114, 0.7171513,...\n",
       "4      lucu       0.412517  [0.10866257, 2.1779838, -0.7292379, -0.6229986...\n",
       "120  modern       0.430758  [1.2598077, 0.16683854, -0.3510573, -0.2913357...\n",
       "132  nyaman       0.510321  [-2.3342586, 0.5450047, -1.0799592, -1.732611,...\n",
       "93     rapi       0.513508  [-2.0491467, 1.0353884, 0.5865311, -0.28014356...\n",
       "124  simpel       0.387682  [1.656277, 1.0110875, -2.802456, 0.009799599, ...\n",
       "137   tebal       0.419798  [-0.32996908, -1.2904714, -0.8981018, 1.512754..."
      ]
     },
     "execution_count": 85,
     "metadata": {},
     "output_type": "execute_result"
    }
   ],
   "source": [
    "df_kata_kansei"
   ]
  },
  {
   "cell_type": "markdown",
   "metadata": {},
   "source": [
    "### Reduksi Dimensi Vektor"
   ]
  },
  {
   "cell_type": "code",
   "execution_count": 86,
   "metadata": {},
   "outputs": [],
   "source": [
    "# reduksi dimensi dengan pca\n",
    "from sklearn.decomposition import PCA\n",
    "from sklearn.preprocessing import MinMaxScaler"
   ]
  },
  {
   "cell_type": "code",
   "execution_count": 87,
   "metadata": {},
   "outputs": [],
   "source": [
    "# Ambil vektor dari DataFrame\n",
    "X = np.array(df_kata_kansei['vektor'].tolist())"
   ]
  },
  {
   "cell_type": "code",
   "execution_count": 88,
   "metadata": {},
   "outputs": [],
   "source": [
    "#  Normalisasi data\n",
    "scaler = MinMaxScaler()\n",
    "X_scaled = scaler.fit_transform(X)"
   ]
  },
  {
   "cell_type": "code",
   "execution_count": 89,
   "metadata": {},
   "outputs": [
    {
     "data": {
      "text/html": [
       "<div>\n",
       "<style scoped>\n",
       "    .dataframe tbody tr th:only-of-type {\n",
       "        vertical-align: middle;\n",
       "    }\n",
       "\n",
       "    .dataframe tbody tr th {\n",
       "        vertical-align: top;\n",
       "    }\n",
       "\n",
       "    .dataframe thead th {\n",
       "        text-align: right;\n",
       "    }\n",
       "</style>\n",
       "<table border=\"1\" class=\"dataframe\">\n",
       "  <thead>\n",
       "    <tr style=\"text-align: right;\">\n",
       "      <th></th>\n",
       "      <th>kata</th>\n",
       "      <th>similar_words</th>\n",
       "      <th>vektor</th>\n",
       "      <th>X</th>\n",
       "      <th>Y</th>\n",
       "    </tr>\n",
       "  </thead>\n",
       "  <tbody>\n",
       "    <tr>\n",
       "      <th>91</th>\n",
       "      <td>bagus</td>\n",
       "      <td>0.524303</td>\n",
       "      <td>[-0.48358458, 1.3537197, -0.40575576, 0.116827...</td>\n",
       "      <td>0.412680</td>\n",
       "      <td>-1.340996</td>\n",
       "    </tr>\n",
       "    <tr>\n",
       "      <th>131</th>\n",
       "      <td>cantik</td>\n",
       "      <td>0.602247</td>\n",
       "      <td>[-1.0010285, 0.02112281, -1.0137289, 0.9863603...</td>\n",
       "      <td>0.999561</td>\n",
       "      <td>0.463534</td>\n",
       "    </tr>\n",
       "    <tr>\n",
       "      <th>123</th>\n",
       "      <td>elegan</td>\n",
       "      <td>0.401474</td>\n",
       "      <td>[0.7857313, 1.7321349, -1.9406658, 1.4515483, ...</td>\n",
       "      <td>-2.368315</td>\n",
       "      <td>0.949984</td>\n",
       "    </tr>\n",
       "    <tr>\n",
       "      <th>122</th>\n",
       "      <td>kasual</td>\n",
       "      <td>0.420815</td>\n",
       "      <td>[0.9295768, -1.4440308, 0.29617244, -1.3333489...</td>\n",
       "      <td>-1.724423</td>\n",
       "      <td>-0.925483</td>\n",
       "    </tr>\n",
       "    <tr>\n",
       "      <th>130</th>\n",
       "      <td>lembut</td>\n",
       "      <td>0.661340</td>\n",
       "      <td>[0.2618268, 0.21090002, -1.5237114, 0.7171513,...</td>\n",
       "      <td>2.031834</td>\n",
       "      <td>1.058545</td>\n",
       "    </tr>\n",
       "    <tr>\n",
       "      <th>4</th>\n",
       "      <td>lucu</td>\n",
       "      <td>0.412517</td>\n",
       "      <td>[0.10866257, 2.1779838, -0.7292379, -0.6229986...</td>\n",
       "      <td>-0.370682</td>\n",
       "      <td>-2.720053</td>\n",
       "    </tr>\n",
       "    <tr>\n",
       "      <th>120</th>\n",
       "      <td>modern</td>\n",
       "      <td>0.430758</td>\n",
       "      <td>[1.2598077, 0.16683854, -0.3510573, -0.2913357...</td>\n",
       "      <td>-2.174223</td>\n",
       "      <td>0.961232</td>\n",
       "    </tr>\n",
       "    <tr>\n",
       "      <th>132</th>\n",
       "      <td>nyaman</td>\n",
       "      <td>0.510321</td>\n",
       "      <td>[-2.3342586, 0.5450047, -1.0799592, -1.732611,...</td>\n",
       "      <td>2.306116</td>\n",
       "      <td>1.743848</td>\n",
       "    </tr>\n",
       "    <tr>\n",
       "      <th>93</th>\n",
       "      <td>rapi</td>\n",
       "      <td>0.513508</td>\n",
       "      <td>[-2.0491467, 1.0353884, 0.5865311, -0.28014356...</td>\n",
       "      <td>1.166997</td>\n",
       "      <td>-1.071290</td>\n",
       "    </tr>\n",
       "    <tr>\n",
       "      <th>124</th>\n",
       "      <td>simpel</td>\n",
       "      <td>0.387682</td>\n",
       "      <td>[1.656277, 1.0110875, -2.802456, 0.009799599, ...</td>\n",
       "      <td>-1.931858</td>\n",
       "      <td>1.269918</td>\n",
       "    </tr>\n",
       "    <tr>\n",
       "      <th>137</th>\n",
       "      <td>tebal</td>\n",
       "      <td>0.419798</td>\n",
       "      <td>[-0.32996908, -1.2904714, -0.8981018, 1.512754...</td>\n",
       "      <td>1.652310</td>\n",
       "      <td>-0.389238</td>\n",
       "    </tr>\n",
       "  </tbody>\n",
       "</table>\n",
       "</div>"
      ],
      "text/plain": [
       "       kata  similar_words                                             vektor  \\\n",
       "91    bagus       0.524303  [-0.48358458, 1.3537197, -0.40575576, 0.116827...   \n",
       "131  cantik       0.602247  [-1.0010285, 0.02112281, -1.0137289, 0.9863603...   \n",
       "123  elegan       0.401474  [0.7857313, 1.7321349, -1.9406658, 1.4515483, ...   \n",
       "122  kasual       0.420815  [0.9295768, -1.4440308, 0.29617244, -1.3333489...   \n",
       "130  lembut       0.661340  [0.2618268, 0.21090002, -1.5237114, 0.7171513,...   \n",
       "4      lucu       0.412517  [0.10866257, 2.1779838, -0.7292379, -0.6229986...   \n",
       "120  modern       0.430758  [1.2598077, 0.16683854, -0.3510573, -0.2913357...   \n",
       "132  nyaman       0.510321  [-2.3342586, 0.5450047, -1.0799592, -1.732611,...   \n",
       "93     rapi       0.513508  [-2.0491467, 1.0353884, 0.5865311, -0.28014356...   \n",
       "124  simpel       0.387682  [1.656277, 1.0110875, -2.802456, 0.009799599, ...   \n",
       "137   tebal       0.419798  [-0.32996908, -1.2904714, -0.8981018, 1.512754...   \n",
       "\n",
       "            X         Y  \n",
       "91   0.412680 -1.340996  \n",
       "131  0.999561  0.463534  \n",
       "123 -2.368315  0.949984  \n",
       "122 -1.724423 -0.925483  \n",
       "130  2.031834  1.058545  \n",
       "4   -0.370682 -2.720053  \n",
       "120 -2.174223  0.961232  \n",
       "132  2.306116  1.743848  \n",
       "93   1.166997 -1.071290  \n",
       "124 -1.931858  1.269918  \n",
       "137  1.652310 -0.389238  "
      ]
     },
     "execution_count": 89,
     "metadata": {},
     "output_type": "execute_result"
    }
   ],
   "source": [
    "# lakukan PCA\n",
    "pca = PCA(n_components=2, random_state = 42)\n",
    "X_reduced = pca.fit_transform(X_scaled)\n",
    "df_kata_kansei['X'] = X_reduced[:, 0]\n",
    "df_kata_kansei['Y'] = X_reduced[:, 1]\n",
    "df_kata_kansei"
   ]
  },
  {
   "cell_type": "markdown",
   "metadata": {},
   "source": [
    "### Klasterisasi Menggunakan Model *K-Means Clustering*"
   ]
  },
  {
   "cell_type": "code",
   "execution_count": 90,
   "metadata": {},
   "outputs": [
    {
     "data": {
      "image/png": "[encoded data removed]",
      "text/plain": [
       "<Figure size 640x480 with 1 Axes>"
      ]
     },
     "metadata": {},
     "output_type": "display_data"
    }
   ],
   "source": [
    "# Menghitung KElbow\n",
    "from sklearn.cluster import KMeans\n",
    "import matplotlib.pyplot as plt\n",
    "\n",
    "wcss = []\n",
    "for k in range(1, 11):\n",
    "    kmeans = KMeans(n_clusters=k, random_state=42)\n",
    "    kmeans.fit(X_reduced)  # X adalah data Anda (numpy array atau DataFrame)\n",
    "    wcss.append(kmeans.inertia_)  # inertia_ = WCSS\n",
    "\n",
    "plt.plot(range(1, 11), wcss, marker='o')\n",
    "plt.title('Metode Elbow')\n",
    "plt.xlabel('Jumlah Klaster (k)')\n",
    "plt.ylabel('WCSS')\n",
    "plt.grid(True)\n",
    "plt.show()"
   ]
  },
  {
   "cell_type": "code",
   "execution_count": 91,
   "metadata": {},
   "outputs": [
    {
     "data": {
      "image/png": "[encoded data removed]",
      "text/plain": [
       "<Figure size 640x480 with 1 Axes>"
      ]
     },
     "metadata": {},
     "output_type": "display_data"
    }
   ],
   "source": [
    "# Menghitung Silhouette Score\n",
    "from sklearn.metrics import silhouette_score\n",
    "\n",
    "silhouette_scores = []\n",
    "K = range(2, 11)  # mulai dari 2 karena silhouette tidak didefinisikan untuk k=1\n",
    "\n",
    "for k in K:\n",
    "    kmeans = KMeans(n_clusters=k, random_state=42)\n",
    "    cluster_labels = kmeans.fit_predict(X_reduced)  # X = data (array atau DataFrame)\n",
    "    score = silhouette_score(X_reduced, cluster_labels)\n",
    "    silhouette_scores.append(score)\n",
    "\n",
    "# Plot hasilnya\n",
    "plt.plot(K, silhouette_scores, marker='o')\n",
    "plt.title('Silhouette Score vs Jumlah Klaster (k)')\n",
    "plt.xlabel('Jumlah Klaster (k)')\n",
    "plt.ylabel('Silhouette Score')\n",
    "plt.grid(True)\n",
    "plt.show()"
   ]
  },
  {
   "cell_type": "code",
   "execution_count": 99,
   "metadata": {},
   "outputs": [
    {
     "data": {
      "text/html": [
       "<div>\n",
       "<style scoped>\n",
       "    .dataframe tbody tr th:only-of-type {\n",
       "        vertical-align: middle;\n",
       "    }\n",
       "\n",
       "    .dataframe tbody tr th {\n",
       "        vertical-align: top;\n",
       "    }\n",
       "\n",
       "    .dataframe thead th {\n",
       "        text-align: right;\n",
       "    }\n",
       "</style>\n",
       "<table border=\"1\" class=\"dataframe\">\n",
       "  <thead>\n",
       "    <tr style=\"text-align: right;\">\n",
       "      <th></th>\n",
       "      <th>kata</th>\n",
       "      <th>similar_words</th>\n",
       "      <th>vektor</th>\n",
       "      <th>X</th>\n",
       "      <th>Y</th>\n",
       "      <th>Cluster</th>\n",
       "    </tr>\n",
       "  </thead>\n",
       "  <tbody>\n",
       "    <tr>\n",
       "      <th>91</th>\n",
       "      <td>bagus</td>\n",
       "      <td>0.524303</td>\n",
       "      <td>[-0.48358458, 1.3537197, -0.40575576, 0.116827...</td>\n",
       "      <td>0.412680</td>\n",
       "      <td>-1.340996</td>\n",
       "      <td>2</td>\n",
       "    </tr>\n",
       "    <tr>\n",
       "      <th>131</th>\n",
       "      <td>cantik</td>\n",
       "      <td>0.602247</td>\n",
       "      <td>[-1.0010285, 0.02112281, -1.0137289, 0.9863603...</td>\n",
       "      <td>0.999561</td>\n",
       "      <td>0.463534</td>\n",
       "      <td>0</td>\n",
       "    </tr>\n",
       "    <tr>\n",
       "      <th>123</th>\n",
       "      <td>elegan</td>\n",
       "      <td>0.401474</td>\n",
       "      <td>[0.7857313, 1.7321349, -1.9406658, 1.4515483, ...</td>\n",
       "      <td>-2.368315</td>\n",
       "      <td>0.949984</td>\n",
       "      <td>1</td>\n",
       "    </tr>\n",
       "    <tr>\n",
       "      <th>122</th>\n",
       "      <td>kasual</td>\n",
       "      <td>0.420815</td>\n",
       "      <td>[0.9295768, -1.4440308, 0.29617244, -1.3333489...</td>\n",
       "      <td>-1.724423</td>\n",
       "      <td>-0.925483</td>\n",
       "      <td>1</td>\n",
       "    </tr>\n",
       "    <tr>\n",
       "      <th>130</th>\n",
       "      <td>lembut</td>\n",
       "      <td>0.661340</td>\n",
       "      <td>[0.2618268, 0.21090002, -1.5237114, 0.7171513,...</td>\n",
       "      <td>2.031834</td>\n",
       "      <td>1.058545</td>\n",
       "      <td>0</td>\n",
       "    </tr>\n",
       "    <tr>\n",
       "      <th>4</th>\n",
       "      <td>lucu</td>\n",
       "      <td>0.412517</td>\n",
       "      <td>[0.10866257, 2.1779838, -0.7292379, -0.6229986...</td>\n",
       "      <td>-0.370682</td>\n",
       "      <td>-2.720053</td>\n",
       "      <td>2</td>\n",
       "    </tr>\n",
       "    <tr>\n",
       "      <th>120</th>\n",
       "      <td>modern</td>\n",
       "      <td>0.430758</td>\n",
       "      <td>[1.2598077, 0.16683854, -0.3510573, -0.2913357...</td>\n",
       "      <td>-2.174223</td>\n",
       "      <td>0.961232</td>\n",
       "      <td>1</td>\n",
       "    </tr>\n",
       "    <tr>\n",
       "      <th>132</th>\n",
       "      <td>nyaman</td>\n",
       "      <td>0.510321</td>\n",
       "      <td>[-2.3342586, 0.5450047, -1.0799592, -1.732611,...</td>\n",
       "      <td>2.306116</td>\n",
       "      <td>1.743848</td>\n",
       "      <td>0</td>\n",
       "    </tr>\n",
       "    <tr>\n",
       "      <th>93</th>\n",
       "      <td>rapi</td>\n",
       "      <td>0.513508</td>\n",
       "      <td>[-2.0491467, 1.0353884, 0.5865311, -0.28014356...</td>\n",
       "      <td>1.166997</td>\n",
       "      <td>-1.071290</td>\n",
       "      <td>2</td>\n",
       "    </tr>\n",
       "    <tr>\n",
       "      <th>124</th>\n",
       "      <td>simpel</td>\n",
       "      <td>0.387682</td>\n",
       "      <td>[1.656277, 1.0110875, -2.802456, 0.009799599, ...</td>\n",
       "      <td>-1.931858</td>\n",
       "      <td>1.269918</td>\n",
       "      <td>1</td>\n",
       "    </tr>\n",
       "    <tr>\n",
       "      <th>137</th>\n",
       "      <td>tebal</td>\n",
       "      <td>0.419798</td>\n",
       "      <td>[-0.32996908, -1.2904714, -0.8981018, 1.512754...</td>\n",
       "      <td>1.652310</td>\n",
       "      <td>-0.389238</td>\n",
       "      <td>0</td>\n",
       "    </tr>\n",
       "  </tbody>\n",
       "</table>\n",
       "</div>"
      ],
      "text/plain": [
       "       kata  similar_words                                             vektor  \\\n",
       "91    bagus       0.524303  [-0.48358458, 1.3537197, -0.40575576, 0.116827...   \n",
       "131  cantik       0.602247  [-1.0010285, 0.02112281, -1.0137289, 0.9863603...   \n",
       "123  elegan       0.401474  [0.7857313, 1.7321349, -1.9406658, 1.4515483, ...   \n",
       "122  kasual       0.420815  [0.9295768, -1.4440308, 0.29617244, -1.3333489...   \n",
       "130  lembut       0.661340  [0.2618268, 0.21090002, -1.5237114, 0.7171513,...   \n",
       "4      lucu       0.412517  [0.10866257, 2.1779838, -0.7292379, -0.6229986...   \n",
       "120  modern       0.430758  [1.2598077, 0.16683854, -0.3510573, -0.2913357...   \n",
       "132  nyaman       0.510321  [-2.3342586, 0.5450047, -1.0799592, -1.732611,...   \n",
       "93     rapi       0.513508  [-2.0491467, 1.0353884, 0.5865311, -0.28014356...   \n",
       "124  simpel       0.387682  [1.656277, 1.0110875, -2.802456, 0.009799599, ...   \n",
       "137   tebal       0.419798  [-0.32996908, -1.2904714, -0.8981018, 1.512754...   \n",
       "\n",
       "            X         Y Cluster  \n",
       "91   0.412680 -1.340996       2  \n",
       "131  0.999561  0.463534       0  \n",
       "123 -2.368315  0.949984       1  \n",
       "122 -1.724423 -0.925483       1  \n",
       "130  2.031834  1.058545       0  \n",
       "4   -0.370682 -2.720053       2  \n",
       "120 -2.174223  0.961232       1  \n",
       "132  2.306116  1.743848       0  \n",
       "93   1.166997 -1.071290       2  \n",
       "124 -1.931858  1.269918       1  \n",
       "137  1.652310 -0.389238       0  "
      ]
     },
     "execution_count": 99,
     "metadata": {},
     "output_type": "execute_result"
    }
   ],
   "source": [
    "# Klaster dengan KMeans\n",
    "from sklearn.cluster import KMeans\n",
    "import matplotlib.pyplot as plt\n",
    "\n",
    "kmeans = KMeans(n_clusters=3, random_state=42)\n",
    "kmeans.fit(X_reduced)\n",
    "df_kata_kansei['Cluster'] = kmeans.labels_\n",
    "df_kata_kansei['Cluster'] = df_kata_kansei['Cluster'].astype(str)\n",
    "df_kata_kansei"
   ]
  },
  {
   "cell_type": "code",
   "execution_count": 100,
   "metadata": {},
   "outputs": [
    {
     "data": {
      "image/png": "[encoded data removed]",
      "text/plain": [
       "<Figure size 800x600 with 1 Axes>"
      ]
     },
     "metadata": {},
     "output_type": "display_data"
    }
   ],
   "source": [
    "# visualisasi hasil clustering\n",
    "import seaborn as sns\n",
    "plt.figure(figsize=(8, 6))\n",
    "sns.scatterplot(data=df_kata_kansei, x='X', y='Y', hue='Cluster', palette='Set1')\n",
    "plt.title('Hasil Clustering dengan KMeans')\n",
    "plt.xlabel('X')\n",
    "plt.ylabel('Y')\n",
    "plt.legend(title='Cluster')\n",
    "plt.grid(True)\n",
    "plt.show()"
   ]
  },
  {
   "cell_type": "code",
   "execution_count": 101,
   "metadata": {},
   "outputs": [
    {
     "data": {
      "text/plain": [
       "0.4929451"
      ]
     },
     "execution_count": 101,
     "metadata": {},
     "output_type": "execute_result"
    }
   ],
   "source": [
    "# menghitung silhouette score\n",
    "from sklearn.metrics import silhouette_score\n",
    "silhouette_avg = silhouette_score(X_reduced, kmeans.labels_)\n",
    "silhouette_avg"
   ]
  },
  {
   "cell_type": "code",
   "execution_count": 102,
   "metadata": {},
   "outputs": [
    {
     "data": {
      "text/html": [
       "<div>\n",
       "<style scoped>\n",
       "    .dataframe tbody tr th:only-of-type {\n",
       "        vertical-align: middle;\n",
       "    }\n",
       "\n",
       "    .dataframe tbody tr th {\n",
       "        vertical-align: top;\n",
       "    }\n",
       "\n",
       "    .dataframe thead th {\n",
       "        text-align: right;\n",
       "    }\n",
       "</style>\n",
       "<table border=\"1\" class=\"dataframe\">\n",
       "  <thead>\n",
       "    <tr style=\"text-align: right;\">\n",
       "      <th></th>\n",
       "      <th>Cluster</th>\n",
       "      <th>kata</th>\n",
       "    </tr>\n",
       "  </thead>\n",
       "  <tbody>\n",
       "    <tr>\n",
       "      <th>0</th>\n",
       "      <td>0</td>\n",
       "      <td>[cantik, lembut, nyaman, tebal]</td>\n",
       "    </tr>\n",
       "    <tr>\n",
       "      <th>1</th>\n",
       "      <td>1</td>\n",
       "      <td>[elegan, kasual, modern, simpel]</td>\n",
       "    </tr>\n",
       "    <tr>\n",
       "      <th>2</th>\n",
       "      <td>2</td>\n",
       "      <td>[bagus, lucu, rapi]</td>\n",
       "    </tr>\n",
       "  </tbody>\n",
       "</table>\n",
       "</div>"
      ],
      "text/plain": [
       "  Cluster                              kata\n",
       "0       0   [cantik, lembut, nyaman, tebal]\n",
       "1       1  [elegan, kasual, modern, simpel]\n",
       "2       2               [bagus, lucu, rapi]"
      ]
     },
     "execution_count": 102,
     "metadata": {},
     "output_type": "execute_result"
    }
   ],
   "source": [
    "# kelompokkan kata sifat berdasarkan cluster\n",
    "df_kata_kansei.groupby('Cluster')['kata'].apply(list).reset_index()"
   ]
  },
  {
   "cell_type": "code",
   "execution_count": 96,
   "metadata": {},
   "outputs": [
    {
     "data": {
      "image/png": "[encoded data removed]",
      "text/plain": [
       "<Figure size 800x600 with 1 Axes>"
      ]
     },
     "metadata": {},
     "output_type": "display_data"
    },
    {
     "data": {
      "image/png": "[encoded data removed]",
      "text/plain": [
       "<Figure size 800x600 with 1 Axes>"
      ]
     },
     "metadata": {},
     "output_type": "display_data"
    },
    {
     "data": {
      "image/png": "[encoded data removed]",
      "text/plain": [
       "<Figure size 800x600 with 1 Axes>"
      ]
     },
     "metadata": {},
     "output_type": "display_data"
    },
    {
     "data": {
      "image/png": "[encoded data removed]",
      "text/plain": [
       "<Figure size 800x600 with 1 Axes>"
      ]
     },
     "metadata": {},
     "output_type": "display_data"
    }
   ],
   "source": [
    "# wordcloud\n",
    "from wordcloud import WordCloud\n",
    "import matplotlib.pyplot as plt\n",
    "from sklearn.cluster import KMeans\n",
    "import numpy as np\n",
    "\n",
    "# Fungsi untuk membuat wordcloud\n",
    "def create_wordcloud(text, cluster_num):\n",
    "    wordcloud = WordCloud(width=600, height=200,\n",
    "                          background_color='white',\n",
    "                          colormap='viridis').generate(text)\n",
    "    \n",
    "    plt.figure(figsize=(8, 6))\n",
    "    plt.imshow(wordcloud, interpolation='bilinear')\n",
    "    plt.axis('off')\n",
    "    plt.title(f'Word Cloud untuk Cluster {cluster_num}')\n",
    "    plt.show()\n",
    "\n",
    "for cluster_num in sorted(df_kata_kansei['Cluster'].unique()):\n",
    "    # Gabungkan kata sifat dari semua teks dalam klaster tersebut\n",
    "    cluster_text = \" \".join(df_kata_kansei[df_kata_kansei['Cluster'] == cluster_num]['kata'].dropna())\n",
    "    \n",
    "    # Tampilkan wordcloud\n",
    "    create_wordcloud(cluster_text, cluster_num)\n"
   ]
  },
  {
   "cell_type": "code",
   "execution_count": 97,
   "metadata": {},
   "outputs": [],
   "source": [
    "df_cluster = df_kata_kansei[['kata', 'Cluster']]"
   ]
  },
  {
   "cell_type": "code",
   "execution_count": 98,
   "metadata": {},
   "outputs": [],
   "source": [
    "# simpan hasil clustering ke file CSV\n",
    "df_cluster.to_csv('hasil_clustering.csv', index=False)"
   ]
  }
 ],
 "metadata": {
  "kernelspec": {
   "display_name": "Python 3 (ipykernel)",
   "language": "python",
   "name": "python3"
  },
  "language_info": {
   "codemirror_mode": {
    "name": "ipython",
    "version": 3
   },
   "file_extension": ".py",
   "mimetype": "text/x-python",
   "name": "python",
   "nbconvert_exporter": "python",
   "pygments_lexer": "ipython3",
   "version": "3.11.5"
  }
 },
 "nbformat": 4,
 "nbformat_minor": 4
}
